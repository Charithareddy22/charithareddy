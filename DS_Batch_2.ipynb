{
  "nbformat": 4,
  "nbformat_minor": 0,
  "metadata": {
    "colab": {
      "provenance": [],
      "include_colab_link": true
    },
    "kernelspec": {
      "name": "python3",
      "display_name": "Python 3"
    },
    "language_info": {
      "name": "python"
    }
  },
  "cells": [
    {
      "cell_type": "markdown",
      "metadata": {
        "id": "view-in-github",
        "colab_type": "text"
      },
      "source": [
        "<a href=\"https://colab.research.google.com/github/Charithareddy22/charithareddy/blob/main/DS_Batch_2.ipynb\" target=\"_parent\"><img src=\"https://colab.research.google.com/assets/colab-badge.svg\" alt=\"Open In Colab\"/></a>"
      ]
    },
    {
      "cell_type": "markdown",
      "source": [
        "# Basics of Python"
      ],
      "metadata": {
        "id": "5cZ_u0WWkevF"
      }
    },
    {
      "cell_type": "code",
      "execution_count": null,
      "metadata": {
        "colab": {
          "base_uri": "https://localhost:8080/"
        },
        "cellView": "form",
        "id": "du4qbDNPjYYy",
        "outputId": "6c4ccf89-4d30-47ba-d668-144ecaf34c3f"
      },
      "outputs": [
        {
          "output_type": "stream",
          "name": "stdout",
          "text": [
            "5\n"
          ]
        }
      ],
      "source": [
        "# @title Comments\n",
        "# Single Line Comment\n",
        "'''\n",
        "Multi Line Comment\n",
        "Adding two numbers and storing the value in sum (This statment will be completly ignored by python)\n",
        "Press CTRL + Enter to run the program\n",
        "'''\n",
        "a = 2\n",
        "b = 3\n",
        "sum = a + b\n",
        "print(sum)"
      ]
    },
    {
      "cell_type": "markdown",
      "source": [
        "# Print Function"
      ],
      "metadata": {
        "id": "Ojpi7erpoeb9"
      }
    },
    {
      "cell_type": "code",
      "source": [
        "# print function\n",
        "# Syntax for Print function\n",
        "print() # correct syntax\n",
        "Print() # Wrong Syntax"
      ],
      "metadata": {
        "id": "r0qZ-KKkl-RK",
        "colab": {
          "base_uri": "https://localhost:8080/"
        },
        "outputId": "e4b20bb2-b94b-4c9a-e713-5669b2d767b7"
      },
      "execution_count": null,
      "outputs": [
        {
          "output_type": "stream",
          "name": "stdout",
          "text": [
            "\n",
            "\n"
          ]
        }
      ]
    },
    {
      "cell_type": "code",
      "source": [
        "print('Hello World') # Valid Syntax\n",
        "print(\"Hello World\") # Valid Syntax\n",
        "n1 = 10\n",
        "n2 = 20\n",
        "sum = n1 + n2\n",
        "print(sum) # Valid Syntax to print the value of sum\n",
        "print('sum')"
      ],
      "metadata": {
        "colab": {
          "base_uri": "https://localhost:8080/"
        },
        "id": "rcgbz0n4mT53",
        "outputId": "b000d6fa-4e28-4a6a-f0c7-324fb2c86e26"
      },
      "execution_count": null,
      "outputs": [
        {
          "output_type": "stream",
          "name": "stdout",
          "text": [
            "Hello World\n",
            "Hello World\n",
            "30\n",
            "sum\n"
          ]
        }
      ]
    },
    {
      "cell_type": "code",
      "source": [
        "# There are two parameters in print function\n",
        "'''\n",
        "1) end parameter\n",
        "2) sep parameter\n",
        "'''\n",
        "# Print both statments in a single line\n",
        "print('Hello world', end = '\\n') #Default value of end is '\\n'(new line)\n",
        "print('How are You?')\n",
        "# Seperate two staments with @\n",
        "print('rinex','gmail.com', sep = '@') # Default value of sep is ' ' (Space)"
      ],
      "metadata": {
        "colab": {
          "base_uri": "https://localhost:8080/"
        },
        "id": "3cny_IVGnBGS",
        "outputId": "4c7fcf75-e849-4c98-f7c1-3285bb558fb4"
      },
      "execution_count": null,
      "outputs": [
        {
          "output_type": "stream",
          "name": "stdout",
          "text": [
            "Hello world\n",
            "How are You?\n",
            "rinex@gmail.com\n"
          ]
        }
      ]
    },
    {
      "cell_type": "markdown",
      "source": [
        "# Variable"
      ],
      "metadata": {
        "id": "0JNGSi1aol33"
      }
    },
    {
      "cell_type": "code",
      "source": [
        "# Anything that can store any value in programming language is termed as variable\n",
        "a = 10 # Here a is a variable\n",
        "message = 'Hello World' # Here message is a variable\n",
        "print(a)\n",
        "print(message)\n",
        "'''\n",
        "Rules to write a variable\n",
        "1) You cannot start the variable name with a number but you continue with it.\n",
        "Ex : 1a - Invalid , a1 - Valid\n",
        "2) We cannot use keywords as variable name.\n",
        "Ex : print = 10 (Invalid)\n",
        "3) Case sensitive\n",
        "Ex :\n",
        "a = 10\n",
        "print(A) # Invalid syntax\n",
        "a = 10\n",
        "print(a) # Valid Syntax\n",
        "'''"
      ],
      "metadata": {
        "colab": {
          "base_uri": "https://localhost:8080/",
          "height": 87
        },
        "id": "efTBeeNIoqf9",
        "outputId": "855491dd-ac37-4f23-9f06-fa130580309a"
      },
      "execution_count": null,
      "outputs": [
        {
          "output_type": "stream",
          "name": "stdout",
          "text": [
            "10\n",
            "Hello World\n"
          ]
        },
        {
          "output_type": "execute_result",
          "data": {
            "text/plain": [
              "'\\nRules to write a variable\\n1) You cannot start the variable name with a number but you continue with it.\\nEx : 1a - Invalid , a1 - Valid\\n2) We cannot use keywords as variable name.\\nEx : print = 10 (Invalid)\\n3) Case sensitive\\nEx :\\na = 10\\nprint(A) # Invalid syntax\\na = 10\\nprint(a) # Valid Syntax\\n'"
            ],
            "application/vnd.google.colaboratory.intrinsic+json": {
              "type": "string"
            }
          },
          "metadata": {},
          "execution_count": 5
        }
      ]
    },
    {
      "cell_type": "markdown",
      "source": [
        "# BASIC OPERATORS IN PYTHON\n",
        "\n",
        "1) Arithmetic Operators\n",
        "\n",
        "2) Comparison Operators\n",
        "\n",
        "3) Logical Operators\n",
        "\n",
        "4) Assignment Operators"
      ],
      "metadata": {
        "id": "rhYXcXaErKtO"
      }
    },
    {
      "cell_type": "code",
      "source": [
        "# @title Arithmetic Operators\n",
        "'''\n",
        "1) Addition (+)\n",
        "2) Subtraction (-)\n",
        "3) Division (/)\n",
        "4) Multiplication (*)\n",
        "5) Modulus (Remainder) (%)\n",
        "6) Floor Division (//)\n",
        "7) Exponent (**)\n",
        "'''\n",
        "a = 10\n",
        "b = 5\n",
        "sum = a + b\n",
        "print(\"Sum is\", sum)\n",
        "diff = a - b\n",
        "print(\"Difference is\", diff)\n",
        "qnt = a / b\n",
        "print(\"Quotient is\", qnt)\n",
        "prod = a * b\n",
        "print(\"PRoduct is\", prod)\n",
        "\n",
        "num1 = 5\n",
        "num2 = 2\n",
        "qnt = num1 / num2\n",
        "print(\"Quotient is\", qnt)\n",
        "rem = num1 % num2\n",
        "print(\"Remainder is\", rem)\n",
        "qnt_without_decimal = num1 // num2\n",
        "print(\"Quotient without Decimal point\", qnt_without_decimal)\n",
        "pow = 5 ** 2 #This means 5 to the power 2\n",
        "print(pow)"
      ],
      "metadata": {
        "colab": {
          "base_uri": "https://localhost:8080/"
        },
        "cellView": "form",
        "id": "_P6MOrn6rJO9",
        "outputId": "21deb306-b433-4a44-82c7-b4411f51f4c3"
      },
      "execution_count": null,
      "outputs": [
        {
          "output_type": "stream",
          "name": "stdout",
          "text": [
            "Sum is 15\n",
            "Difference is 5\n",
            "Quotient is 2.0\n",
            "PRoduct is 50\n",
            "Quotient is 2.5\n",
            "Remainder is 1\n",
            "Quotient without Decimal point 2\n",
            "25\n"
          ]
        }
      ]
    },
    {
      "cell_type": "code",
      "source": [
        "# @title Comparison Operators\n",
        "'''\n",
        "1) Equal to (==)\n",
        "2) Not Equal (!=)\n",
        "3) Greater than (>)\n",
        "4) Greater than or equal to (>=)\n",
        "5) Lesser than (<)\n",
        "6) Lesser than or equal to (<=)\n",
        "'''\n",
        "ex1 = (1 == 1)\n",
        "print(ex1)\n",
        "ex2 = (1 != 1)\n",
        "print(ex2)\n",
        "ex3 = (5 > 15)\n",
        "print(ex3)\n",
        "ex4 = (5 >= 5)\n",
        "print(ex4)"
      ],
      "metadata": {
        "colab": {
          "base_uri": "https://localhost:8080/"
        },
        "cellView": "form",
        "id": "Ng22U8Mstfsz",
        "outputId": "1a7786e5-e282-4cbc-b9af-4bbe9cf2872c"
      },
      "execution_count": null,
      "outputs": [
        {
          "output_type": "stream",
          "name": "stdout",
          "text": [
            "True\n",
            "False\n",
            "False\n",
            "True\n"
          ]
        }
      ]
    },
    {
      "cell_type": "code",
      "source": [
        "# @title Logical Operators\n",
        "'''\n",
        "1) Logical AND (and)\n",
        "2) Logical OR (or)\n",
        "3) Logical NOT (not)\n",
        "'''\n",
        "ex1 = (10 > 2) and (2 > 1) # If we use and operator both conditions should be True\n",
        "print(ex1)\n",
        "ex2 = (1 > 2) or (2 > 1) # If any one condition is True then the output is True\n",
        "print(ex2)\n",
        "ex3 = not False\n",
        "print(ex3)"
      ],
      "metadata": {
        "colab": {
          "base_uri": "https://localhost:8080/"
        },
        "cellView": "form",
        "id": "lJxSHqH-umik",
        "outputId": "5e336221-bff1-4da1-9b24-b2bcd344960a"
      },
      "execution_count": null,
      "outputs": [
        {
          "output_type": "stream",
          "name": "stdout",
          "text": [
            "True\n",
            "True\n",
            "True\n"
          ]
        }
      ]
    },
    {
      "cell_type": "code",
      "source": [
        "# @title Assigment Operators\n",
        "'''\n",
        "0) Assignment (=)\n",
        "1) Addition Assigment(+=)\n",
        "2) Subtraction Assigment(-=)\n",
        "3) Division Assigment(/=)\n",
        "4) Multiplication Assigment(*=)\n",
        "5) Modulus Assigment(Remainder) (%=)\n",
        "6) Floor Division Assigment(//=)\n",
        "7) Exponent Assigment(**=)\n",
        "'''\n",
        "ex1 = 5\n",
        "#print(ex1)\n",
        "ex1 += 5 #ex1 = ex1 + 5\n",
        "print(ex1)\n",
        "ex2 = 10\n",
        "ex2 *= 5#ex2 = ex2 * 5\n",
        "print(ex2)\n",
        "ex3 = 5\n",
        "ex3 **= 2 # ex3 = ex3 ** 2\n",
        "print(ex3)"
      ],
      "metadata": {
        "colab": {
          "base_uri": "https://localhost:8080/"
        },
        "cellView": "form",
        "id": "0idTbUumvwM1",
        "outputId": "bef51e71-2e82-4a09-8531-c1a7fa26819a"
      },
      "execution_count": null,
      "outputs": [
        {
          "output_type": "stream",
          "name": "stdout",
          "text": [
            "10\n",
            "50\n",
            "25\n"
          ]
        }
      ]
    },
    {
      "cell_type": "markdown",
      "source": [
        "# CONDITIONAL STATMENT\n",
        "\n",
        "1) IF statement\n",
        "\n",
        "2) IF else Statement\n",
        "\n",
        "3) IF elif else Statement"
      ],
      "metadata": {
        "id": "8L3qFnSMxCme"
      }
    },
    {
      "cell_type": "code",
      "source": [
        "# @title Example 1\n",
        "# Check if the number is greater than 0 or not.\n",
        "num = int(input('Enter the Number'))\n",
        "if num > 0:\n",
        "  print(\"Number is greater than 0\")\n",
        "elif num == 0:\n",
        "  print(\"Number is equal to 0\")\n",
        "else:\n",
        "  print(\"Number is lesser than 0\")"
      ],
      "metadata": {
        "colab": {
          "base_uri": "https://localhost:8080/"
        },
        "id": "XWc4pYs5xBoN",
        "outputId": "066e2d61-cb8e-48e7-a1e7-46b25f21fd07"
      },
      "execution_count": null,
      "outputs": [
        {
          "output_type": "stream",
          "name": "stdout",
          "text": [
            "Enter the Number7\n",
            "Number is greater than 0\n"
          ]
        }
      ]
    }
  ]
}