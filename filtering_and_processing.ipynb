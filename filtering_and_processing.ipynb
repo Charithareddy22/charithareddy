{
  "nbformat": 4,
  "nbformat_minor": 0,
  "metadata": {
    "colab": {
      "provenance": [],
      "authorship_tag": "ABX9TyMrLJZaNCNkBLgJkDJlhRVP",
      "include_colab_link": true
    },
    "kernelspec": {
      "name": "python3",
      "display_name": "Python 3"
    },
    "language_info": {
      "name": "python"
    }
  },
  "cells": [
    {
      "cell_type": "markdown",
      "metadata": {
        "id": "view-in-github",
        "colab_type": "text"
      },
      "source": [
        "<a href=\"https://colab.research.google.com/github/Charithareddy22/charithareddy/blob/main/filtering_and_processing.ipynb\" target=\"_parent\"><img src=\"https://colab.research.google.com/assets/colab-badge.svg\" alt=\"Open In Colab\"/></a>"
      ]
    },
    {
      "cell_type": "code",
      "execution_count": 1,
      "metadata": {
        "id": "B2MHf9ymwTKD"
      },
      "outputs": [],
      "source": [
        "import pandas as pd"
      ]
    },
    {
      "cell_type": "code",
      "source": [
        "df = pd.read_csv(\"/content/Day_7_sales_data.csv\")"
      ],
      "metadata": {
        "id": "uhQqCWPwwZG0"
      },
      "execution_count": 2,
      "outputs": []
    },
    {
      "cell_type": "code",
      "source": [
        "#Data Filtering\n",
        "high_sales_df = df[df[\"Sales\"] > 1000]\n",
        "print(high_sales_df)\n"
      ],
      "metadata": {
        "colab": {
          "base_uri": "https://localhost:8080/"
        },
        "id": "eHC4G2Rnwi6v",
        "outputId": "cb87f2fc-1c06-4955-89ca-87ffae3bde91"
      },
      "execution_count": 3,
      "outputs": [
        {
          "output_type": "stream",
          "name": "stdout",
          "text": [
            "          Date     Product Region    Sales  Profit  Quantity\n",
            "0   2023-01-02      Tablet   East  1061.81  236.12         7\n",
            "1   2023-01-06      Laptop  North  1926.07  246.34         8\n",
            "2   2023-01-03      Tablet   East  1597.99  253.17         3\n",
            "3   2023-01-20      Tablet  North  1397.99  242.23         1\n",
            "7   2023-01-07  Smartphone   East  1799.26  364.97         4\n",
            "8   2023-01-11  Smartphone   West  1401.67  306.24         2\n",
            "9   2023-01-01      Laptop  North  1562.11  170.72         6\n",
            "11  2023-01-12      Laptop   West  1954.86  262.16         4\n",
            "12  2023-01-09     Monitor  North  1748.66  197.62         6\n",
            "17  2023-01-18     Monitor   West  1287.13  153.86         7\n",
            "18  2023-01-13      Tablet   West  1147.92  271.88         9\n"
          ]
        }
      ]
    },
    {
      "cell_type": "code",
      "source": [
        "east_sales_df = df[df[\"Region\"] == \"East\"]\n",
        "print(east_sales_df)\n"
      ],
      "metadata": {
        "colab": {
          "base_uri": "https://localhost:8080/"
        },
        "id": "Xpvfds44wpMp",
        "outputId": "39938e91-1bb7-435f-ffb4-4727d6b74102"
      },
      "execution_count": 4,
      "outputs": [
        {
          "output_type": "stream",
          "name": "stdout",
          "text": [
            "          Date     Product Region    Sales  Profit  Quantity\n",
            "0   2023-01-02      Tablet   East  1061.81  236.12         7\n",
            "2   2023-01-03      Tablet   East  1597.99  253.17         3\n",
            "6   2023-01-14    Keyboard   East   587.13   82.16         8\n",
            "7   2023-01-07  Smartphone   East  1799.26  364.97         4\n",
            "14  2023-01-08      Laptop   East   772.74  226.51         2\n"
          ]
        }
      ]
    },
    {
      "cell_type": "code",
      "source": [
        "#Data Processing\n",
        "df[\"Profit_Per_Unit\"] = df[\"Profit\"] / df[\"Quantity\"]\n"
      ],
      "metadata": {
        "id": "MRZAuGfEwrSa"
      },
      "execution_count": 5,
      "outputs": []
    },
    {
      "cell_type": "code",
      "source": [
        "df[\"High_Sales\"] = df[\"Sales\"].apply(lambda x: \"Yes\" if x > 1000 else \"No\")\n"
      ],
      "metadata": {
        "id": "as125dAewwJl"
      },
      "execution_count": 6,
      "outputs": []
    }
  ]
}