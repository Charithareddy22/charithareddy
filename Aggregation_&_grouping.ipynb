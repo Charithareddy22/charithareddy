{
  "nbformat": 4,
  "nbformat_minor": 0,
  "metadata": {
    "colab": {
      "provenance": [],
      "authorship_tag": "ABX9TyO2Y5Oo2x/wDX/olCXc9DlB",
      "include_colab_link": true
    },
    "kernelspec": {
      "name": "python3",
      "display_name": "Python 3"
    },
    "language_info": {
      "name": "python"
    }
  },
  "cells": [
    {
      "cell_type": "markdown",
      "metadata": {
        "id": "view-in-github",
        "colab_type": "text"
      },
      "source": [
        "<a href=\"https://colab.research.google.com/github/Charithareddy22/charithareddy/blob/main/Aggregation_%26_grouping.ipynb\" target=\"_parent\"><img src=\"https://colab.research.google.com/assets/colab-badge.svg\" alt=\"Open In Colab\"/></a>"
      ]
    },
    {
      "cell_type": "code",
      "execution_count": 1,
      "metadata": {
        "id": "QSY5wn3rw-Kq"
      },
      "outputs": [],
      "source": [
        "import pandas as pd"
      ]
    },
    {
      "cell_type": "code",
      "source": [
        "df = pd.read_csv(\"/content/Day_9_banking_data.csv\")"
      ],
      "metadata": {
        "id": "gLNqOcXzxVma"
      },
      "execution_count": 3,
      "outputs": []
    },
    {
      "cell_type": "code",
      "source": [
        "#Data Exploration\n",
        "print(df.head())"
      ],
      "metadata": {
        "colab": {
          "base_uri": "https://localhost:8080/"
        },
        "id": "iBjeSKrLxfHR",
        "outputId": "6ad399a8-ff8f-4ccf-ba7b-e319fde11b41"
      },
      "execution_count": 4,
      "outputs": [
        {
          "output_type": "stream",
          "name": "stdout",
          "text": [
            "         Date       Account_Type    Branch Transaction_Type  \\\n",
            "0  2023-01-19      Fixed Deposit   Central     Loan Payment   \n",
            "1  2023-01-16            Current    Uptown       Withdrawal   \n",
            "2  2023-01-10            Current    Uptown     Loan Payment   \n",
            "3  2023-01-18            Savings    Uptown     Loan Payment   \n",
            "4  2023-01-14  Recurring Deposit  Suburban     Loan Payment   \n",
            "\n",
            "   Transaction_Amount  Account_Balance  \n",
            "0              985.51          6839.59  \n",
            "1              641.43          8908.39  \n",
            "2             3363.85         12428.67  \n",
            "3             1914.60          5776.63  \n",
            "4             2788.57          4779.04  \n"
          ]
        }
      ]
    },
    {
      "cell_type": "code",
      "source": [
        "print(df.describe())"
      ],
      "metadata": {
        "colab": {
          "base_uri": "https://localhost:8080/"
        },
        "id": "QdW8A76qxhPe",
        "outputId": "99f03d8c-00b8-444b-9d7c-329ed16fe2da"
      },
      "execution_count": 5,
      "outputs": [
        {
          "output_type": "stream",
          "name": "stdout",
          "text": [
            "       Transaction_Amount  Account_Balance\n",
            "count           20.000000        20.000000\n",
            "mean          2705.829500      7967.766500\n",
            "std           1429.829787      2770.248821\n",
            "min            641.430000      2592.160000\n",
            "25%           1482.085000      6460.127500\n",
            "50%           2567.645000      7905.275000\n",
            "75%           4121.525000      9127.702500\n",
            "max           4683.640000     12836.510000\n"
          ]
        }
      ]
    },
    {
      "cell_type": "code",
      "source": [
        "\n",
        "# Check for missing values\n",
        "print(df.isnull().sum())"
      ],
      "metadata": {
        "colab": {
          "base_uri": "https://localhost:8080/"
        },
        "id": "1QBVrcfaxjch",
        "outputId": "623b0984-ccd1-4715-9cd6-fc21d1e6dbba"
      },
      "execution_count": 6,
      "outputs": [
        {
          "output_type": "stream",
          "name": "stdout",
          "text": [
            "Date                  0\n",
            "Account_Type          0\n",
            "Branch                0\n",
            "Transaction_Type      0\n",
            "Transaction_Amount    0\n",
            "Account_Balance       0\n",
            "dtype: int64\n"
          ]
        }
      ]
    },
    {
      "cell_type": "code",
      "source": [
        "#Data Aggregation and grouping\n",
        "# Total sum of Transaction_Amount per Account_Type\n",
        "total_transaction_by_type = df.groupby(\"Account_Type\")[\"Transaction_Amount\"].sum()\n",
        "print(total_transaction_by_type)\n",
        "\n",
        "# Average Account_Balance per Account_Type\n",
        "average_balance_by_type = df.groupby(\"Account_Type\")[\"Account_Balance\"].mean()\n",
        "print(average_balance_by_type)\n"
      ],
      "metadata": {
        "colab": {
          "base_uri": "https://localhost:8080/"
        },
        "id": "deu_7f2bxmGn",
        "outputId": "75b43338-fa19-497b-a158-31ed6ec36240"
      },
      "execution_count": 7,
      "outputs": [
        {
          "output_type": "stream",
          "name": "stdout",
          "text": [
            "Account_Type\n",
            "Current              15052.57\n",
            "Fixed Deposit        14102.59\n",
            "Recurring Deposit    15179.99\n",
            "Savings               9781.44\n",
            "Name: Transaction_Amount, dtype: float64\n",
            "Account_Type\n",
            "Current              9893.404000\n",
            "Fixed Deposit        6120.380000\n",
            "Recurring Deposit    7627.283333\n",
            "Savings              9134.110000\n",
            "Name: Account_Balance, dtype: float64\n"
          ]
        }
      ]
    },
    {
      "cell_type": "code",
      "source": [
        "# Total number of transactions per branch\n",
        "transactions_per_branch = df.groupby(\"Branch\")[\"Transaction_Amount\"].count()\n",
        "print(transactions_per_branch)\n",
        "\n",
        "# Average Transaction_Amount per branch\n",
        "average_transaction_per_branch = df.groupby(\"Branch\")[\"Transaction_Amount\"].mean()\n",
        "print(average_transaction_per_branch)\n"
      ],
      "metadata": {
        "colab": {
          "base_uri": "https://localhost:8080/"
        },
        "id": "X_msbd6gx0JS",
        "outputId": "66861d9b-0a53-416f-fa69-f27bdb70e110"
      },
      "execution_count": 8,
      "outputs": [
        {
          "output_type": "stream",
          "name": "stdout",
          "text": [
            "Branch\n",
            "Central     8\n",
            "Downtown    3\n",
            "Suburban    5\n",
            "Uptown      4\n",
            "Name: Transaction_Amount, dtype: int64\n",
            "Branch\n",
            "Central     2942.338750\n",
            "Downtown    3188.703333\n",
            "Suburban    2773.278000\n",
            "Uptown      1786.345000\n",
            "Name: Transaction_Amount, dtype: float64\n"
          ]
        }
      ]
    }
  ]
}